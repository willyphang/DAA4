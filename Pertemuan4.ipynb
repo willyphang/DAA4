{
  "nbformat": 4,
  "nbformat_minor": 0,
  "metadata": {
    "colab": {
      "provenance": []
    },
    "kernelspec": {
      "name": "python3",
      "display_name": "Python 3"
    },
    "language_info": {
      "name": "python"
    }
  },
  "cells": [
    {
      "cell_type": "code",
      "execution_count": 1,
      "metadata": {
        "colab": {
          "base_uri": "https://localhost:8080/"
        },
        "id": "h2W3CLPdrXMT",
        "outputId": "ddeb7c2f-4c87-4cfb-d460-a01a5d02c4be"
      },
      "outputs": [
        {
          "output_type": "stream",
          "name": "stdout",
          "text": [
            "3 1 2\n"
          ]
        }
      ],
      "source": [
        "var1 = 1\n",
        "var2 = 2\n",
        "var3 = 3\n",
        "var1,var2,var3 = var3,var1,var2\n",
        "print(var1,var2,var3)"
      ]
    },
    {
      "cell_type": "code",
      "source": [
        "def BubbleSort(list):\n",
        "\n",
        "  lastElementIndex = len(list)-1\n",
        "  for passNo in range(lastElementIndex,0,-1):\n",
        "    for idx in range(passNo):\n",
        "      if list[idx]>list[idx+1]:\n",
        "        list[idx],list[idx+1]=list[idx+1],list[idx]\n",
        "  return list"
      ],
      "metadata": {
        "id": "n2YuBp1MrwR0"
      },
      "execution_count": 2,
      "outputs": []
    },
    {
      "cell_type": "code",
      "source": [
        "\n",
        "list = [100,20,60,90,40,30,10]\n",
        "BubbleSort(list)"
      ],
      "metadata": {
        "colab": {
          "base_uri": "https://localhost:8080/"
        },
        "id": "NO4ZQtTfryJJ",
        "outputId": "b69a2ae2-5e39-4637-87f3-53ad4fc70162"
      },
      "execution_count": 3,
      "outputs": [
        {
          "output_type": "execute_result",
          "data": {
            "text/plain": [
              "[10, 20, 30, 40, 60, 90, 100]"
            ]
          },
          "metadata": {},
          "execution_count": 3
        }
      ]
    },
    {
      "cell_type": "code",
      "source": [
        "def InsertionSort(list):\n",
        "  for i in range(1, len(list)):\n",
        "    j = i-1\n",
        "    next = list[i]\n",
        "\n",
        "    while (list[j] > next) and (j >= 0):\n",
        "      list[j+1] = list[j]\n",
        "      j=j-1\n",
        "    list[j+1] = next\n",
        "  return list"
      ],
      "metadata": {
        "id": "BB2ewe-0r3Pg"
      },
      "execution_count": 4,
      "outputs": []
    },
    {
      "cell_type": "code",
      "source": [
        "\n",
        "list = [89,12,57,16,25,11,75]\n",
        "InsertionSort(list)"
      ],
      "metadata": {
        "colab": {
          "base_uri": "https://localhost:8080/"
        },
        "id": "fq5EYDpJr9Ek",
        "outputId": "e96c0791-3355-46c3-d180-d892b467a56e"
      },
      "execution_count": 5,
      "outputs": [
        {
          "output_type": "execute_result",
          "data": {
            "text/plain": [
              "[11, 12, 16, 25, 57, 75, 89]"
            ]
          },
          "metadata": {},
          "execution_count": 5
        }
      ]
    },
    {
      "cell_type": "code",
      "source": [
        "\n",
        "def SelectionSort(list):\n",
        "  for fill_slot in range(len(list) - 1,0,-1):\n",
        "    max_index = 0\n",
        "    for location in range(1, fill_slot + 1):\n",
        "      if list[location] > list[max_index]:\n",
        "        max_index = location\n",
        "    list[fill_slot],list[max_index] = list[max_index],list[fill_slot]\n",
        "  return list"
      ],
      "metadata": {
        "id": "virpzEbXsFn5"
      },
      "execution_count": 6,
      "outputs": []
    },
    {
      "cell_type": "code",
      "source": [
        "\n",
        "list = [89,12,57,16,25]\n",
        "SelectionSort(list)"
      ],
      "metadata": {
        "colab": {
          "base_uri": "https://localhost:8080/"
        },
        "id": "Vr0gJrP9sJnw",
        "outputId": "c33c67e8-0cee-40ff-9c37-3886f4e5212c"
      },
      "execution_count": 14,
      "outputs": [
        {
          "output_type": "execute_result",
          "data": {
            "text/plain": [
              "[12, 16, 25, 57, 89]"
            ]
          },
          "metadata": {},
          "execution_count": 14
        }
      ]
    },
    {
      "cell_type": "code",
      "source": [
        "def LinearSearch(list, item):\n",
        "  index = 0\n",
        "  found = False\n",
        "\n",
        "  while index < len(list) and found is False:\n",
        "    if list[index] == item:\n",
        "      found = True\n",
        "    else:\n",
        "      index = index + 1\n",
        "  return found"
      ],
      "metadata": {
        "id": "HvzBCwrtsNMn"
      },
      "execution_count": 12,
      "outputs": []
    },
    {
      "cell_type": "code",
      "source": [
        "list = ['y','u','i','w','o','a','q','u','j','p']\n",
        "print(LinearSearch(list, 'a'))"
      ],
      "metadata": {
        "colab": {
          "base_uri": "https://localhost:8080/"
        },
        "id": "srnmhJAnsQsU",
        "outputId": "2d6105af-c7c2-46f4-e94d-c4a80412318f"
      },
      "execution_count": 13,
      "outputs": [
        {
          "output_type": "stream",
          "name": "stdout",
          "text": [
            "True\n"
          ]
        }
      ]
    },
    {
      "cell_type": "code",
      "source": [
        "def BinarySearch(list, item):\n",
        "  first = 0\n",
        "  last = len(list)-1\n",
        "  found = False\n",
        "\n",
        "  while first<=last and not found:\n",
        "    midpoint = (first + last)//2\n",
        "    if list[midpoint] == item:\n",
        "      found = True\n",
        "    else:\n",
        "      if item < list[midpoint]:\n",
        "        last = midpoint-1\n",
        "      else:\n",
        "        first = midpoint+1\n",
        "  return found"
      ],
      "metadata": {
        "id": "NOrAcQVTsTni"
      },
      "execution_count": 10,
      "outputs": []
    },
    {
      "cell_type": "code",
      "source": [
        "list = ['y','u','i','w','o','a','q','u','j','p']\n",
        "sorted_list = BubbleSort(list)\n",
        "print(BinarySearch(list, 'a'))"
      ],
      "metadata": {
        "colab": {
          "base_uri": "https://localhost:8080/"
        },
        "id": "V7ZQ_Qi6sXbi",
        "outputId": "b158d452-cc38-44c1-b483-b91851c4e1b6"
      },
      "execution_count": 11,
      "outputs": [
        {
          "output_type": "stream",
          "name": "stdout",
          "text": [
            "True\n"
          ]
        }
      ]
    },
    {
      "cell_type": "code",
      "source": [
        "def IntPolsearch(list,x):\n",
        "    idx0 = 0\n",
        "    idxn = (len(list)-1)\n",
        "    found = False\n",
        "    while idx0 <= idxn and x >= list[idx0] and x <= list[idxn]:\n",
        "\n",
        "        mid = idx0 +int(((float(idxn - idx0)/( list[idxn] - list[idx0])) * (x - list[idx0])))\n",
        "\n",
        "        if list[mid] == x:\n",
        "            found = True\n",
        "            return found\n",
        "\n",
        "        if list[mid] < x:\n",
        "            idx0 = mid +1\n",
        "    return found"
      ],
      "metadata": {
        "id": "4RL57VT7sqzP"
      },
      "execution_count": 15,
      "outputs": []
    },
    {
      "cell_type": "code",
      "source": [
        "\n",
        "list = ['y','u','i','w','o','a','q','u','j','p']\n",
        "sorted_list = BubbleSort(list)"
      ],
      "metadata": {
        "id": "LfjdKr5ns3E9"
      },
      "execution_count": 16,
      "outputs": []
    }
  ]
}